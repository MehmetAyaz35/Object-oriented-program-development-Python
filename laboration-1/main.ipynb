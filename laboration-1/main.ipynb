{
 "cells": [
  {
   "attachments": {},
   "cell_type": "markdown",
   "metadata": {},
   "source": [
    "# Laboration 1\n",
    "## LÄS DETTA FÖRST\n",
    "**Deadline**: 2023/10/29 (Söndag 29 oktober 23:59)\n",
    "\n",
    "**Deadline Komplettering 1**: 2023/11/5 (Söndag 5e november 23:59)\n",
    "\n",
    "**Deadline Komplettering 2**: 2023/11/12 (Söndag 12e november 23:59)\n",
    "\n",
    "**Betyg**: U, G, VG - Du kan inte få VG på kompletteringar\n",
    "\n",
    "\n",
    "## Inlämning\n",
    "Ta bort alla onödiga filer, din kod bör vara på den huvudsakliga branchen \"main\" eller \"master\".\n",
    "Se till att du körde git clone på din EGEN repository för labben.\n",
    "Feedback ges via en speciell branch som skapas automatiskt, mer information om detta får du av utbildaren.\n",
    "\n",
    "## Regler\n",
    "Laborationen är individuell, och du ska inte använda AI-assisterad hjälp för att lösa uppgiften. Öva istället på att googla dig fram till svaret. Chattbottar / LLM-modeller likt chatGPT får endast användas att beskriva enskilda koncept. Att däremot skicka in en hel uppgift och be om en lösning är strikt förbjudet - detta hjälper dig inte träna på egen problemlösning, eftersom du deligerar tänkandet till någon annan. Jag märker väldigt enkelt när svar är AI-genererade!\n",
    "\n",
    "## Beskrivning:\n",
    "Du ska svara på frågorna. Du kommer antingen behöva svara med text, kod eller båda samtidigt. \n",
    "Du kan utnyttja kommentarer i python för att skriva text med # (hashtag-symbolen)\n",
    "Eller så kan du skapa ett markdown-block och sedan skriva text.\n",
    "För att sedan lägga till kod kan du skriva \n",
    "\n",
    "\\```python \n",
    "\n",
    "Kod här inne\n",
    "\n",
    "\\```\n",
    "\n",
    "# Exempelfråga & Exempelsvar:\n",
    "\n",
    "Vad är en lista, och varför är den viktig? Svara med text och kod.\n",
    "\n",
    "Svar:\n",
    "Listor är användbara eftersom vi kan gruppera data på ett logiskt sätt. Utan listor hade vi behövt spara allt i enskilda variabler, vilket inte är skalbart för en applikation. Vad händer om vi exempelvis har 100000 studenter och alla behöver en variabel?\n",
    "\n",
    "```python\n",
    "# Idiotiskt:\n",
    "student_1 = \"Tobias\"\n",
    "student_2 = \"Alfred\"\n",
    "student_3 = \"Elina\"\n",
    "student_4 = \"Jessica\"\n",
    "\n",
    "# Bra\n",
    "students = [\"Tobias\", \"Alfred\", \"Elina\", \"Jessica\"]\n",
    "student_1 = students[0]\n",
    "```\n",
    "\n",
    "\n"
   ]
  },
  {
   "cell_type": "code",
   "execution_count": null,
   "metadata": {},
   "outputs": [],
   "source": [
    "# This makes it so that jupyter wont just output the last line, but everything that gets outputted.\n",
    "from IPython.core.interactiveshell import InteractiveShell\n",
    "InteractiveShell.ast_node_interactivity = \"all\""
   ]
  },
  {
   "attachments": {},
   "cell_type": "markdown",
   "metadata": {},
   "source": [
    "### Uppgift 1\n",
    "\n",
    "Vi brukar säga att det finns statiskt typade språk och dynamiskt typade språk.\n",
    "Python är ett dynamiskt typat språk som har en \"interpreter\", dvs. koden vi skriver tolkas av ett program som omvandlar det till binära tal. Vad innebär det i praktiken för oss när vi skriver kod, dvs. att python är dynamiskt typat?\n",
    "\n",
    "Svara med kod och kommentarer."
   ]
  },
  {
   "cell_type": "code",
   "execution_count": 1,
   "metadata": {},
   "outputs": [
    {
     "name": "stdout",
     "output_type": "stream",
     "text": [
      "The student's name is Mehmet and 33 years old.\n"
     ]
    }
   ],
   "source": [
    "\"\"\"Vid dynamisk typning kan variabler omfördelas till olika typer av värden under körningen av ett program. Denna flexibilitet möjliggör\n",
    "mer koncis och flexibel kod, eftersom du kan använda samma variabel för att lagra olika typer av data genom hela programmet.\"\"\"\n",
    "\n",
    "\"\"\"Jag har definierat två variabler en av stringtyp och en av integertyp. Som du kan se från koden har jag inte definierat datatypen för \n",
    "någon variabel och koden ger inget fel, detta beror på att Python är ett dynamiskt skrivet språk. Datatyperna för variabler identifieras\n",
    " vid körning så det finns inget behov av att deklarera det i koden.\n",
    "\"\"\"\n",
    "name = \"Mehmet\"\n",
    "age = 33\n",
    "print(f\"The student's name is {name} and {age} years old.\")"
   ]
  },
  {
   "attachments": {},
   "cell_type": "markdown",
   "metadata": {},
   "source": [
    "### Uppgift 2\n",
    "Hur kollar jag vad en variabel har för typ? Varför kan det vara användbart?\n",
    "\n",
    "Svara med kod nedanför och skriv kommentarer över eller bredvid."
   ]
  },
  {
   "cell_type": "code",
   "execution_count": 1,
   "metadata": {},
   "outputs": [
    {
     "name": "stdout",
     "output_type": "stream",
     "text": [
      "<class 'str'>\n",
      "<class 'int'>\n",
      "<class 'float'>\n"
     ]
    }
   ],
   "source": [
    "'''I Python kan vi använda den inbyggda funktionen type() för att kontrollera vilken typ en variabel har. Det kan vara användbart av flera skäl,\n",
    " inklusive felsökning och säkerställande av att du hanterar variabler korrekt.\n",
    "'''\n",
    "name = \"Mehmet\"\n",
    "age = 33\n",
    "kg = 73.5\n",
    "\n",
    "print(type(name))\n",
    "print(type(age))\n",
    "print(type(kg))\n",
    "\n"
   ]
  },
  {
   "attachments": {},
   "cell_type": "markdown",
   "metadata": {},
   "source": [
    "### Uppgift 3\n",
    "\n",
    "Variablerna a, b, c är textsträngar som innehåller ett decimaltal var. Konvertera dem till float och skriv ut summan av dem med print."
   ]
  },
  {
   "cell_type": "code",
   "execution_count": 10,
   "metadata": {},
   "outputs": [
    {
     "name": "stdout",
     "output_type": "stream",
     "text": [
      "15.03\n"
     ]
    }
   ],
   "source": [
    "a = '5.61'\n",
    "b = '2.15'\n",
    "c = '7.27'\n",
    "\n",
    "float_a = float(a)\n",
    "float_b = float(b)\n",
    "float_c = float(c)\n",
    "\n",
    "print(float_a+float_b+float_c)"
   ]
  },
  {
   "attachments": {},
   "cell_type": "markdown",
   "metadata": {},
   "source": [
    "### Uppgift 4\n",
    "\n",
    "Funktionen `randrange(start, end)` i modulen `random` genererar ett slumpat tal mellan _start_ och _end - 1_. `randrange(5, 10)` ger ger alltså tal mellan 5 och 9.\n",
    "\n",
    "Använd randrange för att simulera **två** tärningskast (6-sidiga) och returnera summan av kasten.\n",
    "\n",
    "Gör detta genom att fylla i funktionen `throw_dice()`."
   ]
  },
  {
   "cell_type": "code",
   "execution_count": 48,
   "metadata": {},
   "outputs": [
    {
     "name": "stdout",
     "output_type": "stream",
     "text": [
      "2\n"
     ]
    }
   ],
   "source": [
    "from random import randrange\n",
    "\n",
    "def throw_dice():\n",
    "    throw_dice_1 = randrange(1,7)\n",
    "    throw_dice_2 = randrange(1,7)\n",
    "    result = throw_dice_1 + throw_dice_2\n",
    "    return result\n",
    "\n",
    "print(throw_dice()) "
   ]
  },
  {
   "attachments": {},
   "cell_type": "markdown",
   "metadata": {},
   "source": [
    "### Uppgift 5\n",
    "\n",
    "När vi pratar om funktioner, vad är\n",
    "1. En parameter?\n",
    "2. Ett argument?\n",
    "\n",
    "Svara med kod med kommentarer"
   ]
  },
  {
   "cell_type": "code",
   "execution_count": 49,
   "metadata": {},
   "outputs": [
    {
     "name": "stdout",
     "output_type": "stream",
     "text": [
      "7\n"
     ]
    }
   ],
   "source": [
    "#En parameter är en variabel som anges inom parentes när en funktion definieras.\n",
    "#Argumentet är värdet som skickas till funktionen när den anropas.\n",
    "\n",
    "## Define a function named \"sum\" that takes two parameters, \"a\" and \"b\"\n",
    "def sum(a, b):\n",
    "    return a + b\n",
    "\n",
    "print(sum(2,5)) # 2 and 5 are arguments"
   ]
  },
  {
   "attachments": {},
   "cell_type": "markdown",
   "metadata": {},
   "source": [
    "### Uppgift 6\n",
    "\n",
    "Du ska skriva en funktion som tar två siffror som argument och returnerar siffran som är störst.\n",
    "\n",
    "Exempel : print(largest(5, 13)) # Ska skriva ut 13"
   ]
  },
  {
   "cell_type": "code",
   "execution_count": 58,
   "metadata": {},
   "outputs": [
    {
     "name": "stdout",
     "output_type": "stream",
     "text": [
      "13\n",
      "13\n"
     ]
    }
   ],
   "source": [
    "def largest(a, b):\n",
    "    if a > b:\n",
    "        return a\n",
    "    if b > a:\n",
    "        return b    \n",
    "\n",
    "\n",
    "print(largest(13, 5)) \n",
    "print(largest(5, 13))"
   ]
  },
  {
   "attachments": {},
   "cell_type": "markdown",
   "metadata": {},
   "source": [
    "### Uppgift 7\n",
    "1. Hur skapar du en lista? Svara med kod.0\n",
    "2. Varför behöver vi listor?  Svara med ord.\n",
    "3. Vad är ett index? Svara med kod och ord.\n",
    "4. Vad är ett element? Svara med kod och ord."
   ]
  },
  {
   "cell_type": "code",
   "execution_count": 10,
   "metadata": {},
   "outputs": [
    {
     "name": "stdout",
     "output_type": "stream",
     "text": [
      "[33, 'Mehmet', 1.82, ['List', 'within', 'a', 'list'], {'key': 'value', 'language': 'Python'}, True]\n"
     ]
    }
   ],
   "source": [
    "my_list = [33, \"Mehmet\", 1.82, [\"List\", \"within\", \"a\", \"list\"], {\"key\": \"value\", \"language\": \"Python\"}, True]\n",
    "print(my_list)\n"
   ]
  },
  {
   "cell_type": "code",
   "execution_count": null,
   "metadata": {},
   "outputs": [],
   "source": [
    "# In Python, a list is a built-in data type that allows you to store a collection of items.\n",
    "# Lists are useful for storing items that are related to each other, such as a list of students in a class or a list of items in a shopping cart. "
   ]
  },
  {
   "cell_type": "code",
   "execution_count": null,
   "metadata": {},
   "outputs": [],
   "source": [
    "a_list = [\"a\", \"b\", True, \"x\", \"y\"]\n",
    "\n",
    "# We can describe it as a location identifier. We can reach the element we want to reach or reference with its index number.\n",
    "# Index number in Python starts with 0\n",
    "first_element = a_list[0]  #Index number 0 gives us the first element \"a\"\n",
    "second_element = a_list[1] #Index number 1 gives us the second element \"b\"\n",
    "\n"
   ]
  },
  {
   "cell_type": "code",
   "execution_count": null,
   "metadata": {},
   "outputs": [],
   "source": [
    "# In general, an \"element\" refers to one individual component of a collection, such as a list, tuple, or set.\n",
    "# Each number in the list would be considered an element of that list.\n",
    "\n",
    "my_list = [1, 2, 3, 4, 5]\n",
    "\n",
    "first_element = my_list[0]  #Index number 0 gives us the first element 1\n",
    "second_element = my_list[1] #Index number 1 gives us the second element 2\n",
    "last_index = my_list[-1] #Index number 1 gives us the last element 5"
   ]
  },
  {
   "attachments": {},
   "cell_type": "markdown",
   "metadata": {},
   "source": [
    "### Uppgift 8\n",
    "\n",
    "Varför behöver vi flödeskontroll när vi programmerar (if-statements, loopar)? Förklara med ord och kod."
   ]
  },
  {
   "cell_type": "code",
   "execution_count": 3,
   "metadata": {},
   "outputs": [
    {
     "name": "stdout",
     "output_type": "stream",
     "text": [
      "34 is even\n",
      "0\n",
      "1\n",
      "2\n",
      "3\n",
      "4\n",
      "Hi Mehmet\n",
      "Hi Mehmet\n",
      "Hi Mehmet\n",
      "Hi Mehmet\n"
     ]
    }
   ],
   "source": [
    "'''\n",
    "A program executes a series of coded instructions to perform a task.\n",
    "Flow control refers to the order in which these instructions are executed.\n",
    "\n",
    " if statements, allow us to evaluate a condition and execute a block of code in response.\n",
    "'''\n",
    "x = 34\n",
    "if x%2 == 0: \n",
    "    print(f\"{x} is even\")  #Here, if x is divided by 2, this code block is printed.\n",
    "else:\n",
    "    print(f\"{x} is odd\")   #Here, if x is not divided by 2, this code block is printed.\n",
    "\n",
    "'''\n",
    "In Python, iterative statements allow us to execute a block of code repeatedly as long as the condition is True.\n",
    "The for loop is usually used when the number of iterations is known.\n",
    "The while loop is usually used when the number of iterations is unknown.\n",
    "'''\n",
    "\n",
    "for num in range(5):\n",
    "    print(num)\n",
    "\n",
    "count = 0\n",
    "while (count < 4):   #As long as our condition is True, \"Hi Mehmet\" will be printed\n",
    "    count = count + 1\n",
    "    print(\"Hi Mehmet\")"
   ]
  },
  {
   "attachments": {},
   "cell_type": "markdown",
   "metadata": {},
   "source": [
    "### Uppgift 9\n",
    "\n",
    "Implementera funktionen `return_first_negative_number(l)` så att den returnerar det första negativa talet i listan numbers_list som är argumentet till funktionen.\n",
    "\n",
    "Hint: Använd `for` och `if`"
   ]
  },
  {
   "cell_type": "code",
   "execution_count": 2,
   "metadata": {},
   "outputs": [
    {
     "name": "stdout",
     "output_type": "stream",
     "text": [
      "[-20]\n"
     ]
    }
   ],
   "source": [
    "def return_first_negative_number(l):\n",
    "    negative_number = []\n",
    "    for number in l:\n",
    "        if number < 0:\n",
    "            negative_number.append(number)\n",
    "            break\n",
    "    return negative_number\n",
    "           \n",
    "\n",
    "numbers_list = [4, 1, 34, 42, -20, 21, 49, -48, 40, 3, -21, 10, 37, 36]\n",
    "print(return_first_negative_number(numbers_list)) "
   ]
  },
  {
   "attachments": {},
   "cell_type": "markdown",
   "metadata": {},
   "source": [
    "### Uppgift 10\n",
    "\n",
    "Förklara vad \"in\" gör i denna kod gör. Keywordet används två gånger, vad är skillnaden på dessa två användningsområden?\n",
    "\n",
    "Svara genom att kommentera koden"
   ]
  },
  {
   "cell_type": "code",
   "execution_count": 1,
   "metadata": {},
   "outputs": [],
   "source": [
    "names = [\"tobias\", \"andreas\", \"tove\"]\n",
    "new_names = []\n",
    "\n",
    "'''\n",
    "\"in\" is the keyword used to specify the list (or any other iterable) over which the loop should iterate.\n",
    "So \"in\" here acts as a join between the keyword \"for\", the temporary variable name \"name\" and the list to be iterated over, \"names\". \n",
    "It allows the loop to go through each element of the list one by one and perform the specified action for each element.\n",
    "'''\n",
    "for name in names:\n",
    "   if \"to\" in name:   #Here \"in\" is inside a condition .This condition determines whether the name should be included in the new list based on whether the name contains the string \"to\".\n",
    "      new_names.append(name)"
   ]
  },
  {
   "attachments": {},
   "cell_type": "markdown",
   "metadata": {},
   "source": [
    "### Uppgift 11"
   ]
  },
  {
   "attachments": {},
   "cell_type": "markdown",
   "metadata": {},
   "source": [
    "Du har följande dictionary där datan beskriver en mängd studenter. Nyckeln är deras personnnummer, valuen är ytterligare en dictionary med data. Du behöver rensa bort alla studenter som\n",
    "har blivit godkända. \n",
    "Hur går du till väga? Skriv kod och kommentera.\n",
    "\n",
    "Tips: Du behöver loopa."
   ]
  },
  {
   "cell_type": "code",
   "execution_count": 16,
   "metadata": {},
   "outputs": [
    {
     "name": "stdout",
     "output_type": "stream",
     "text": [
      "{9010054514: {'grade': 22, 'passed': False}, 9201134555: {'grade': 15, 'passed': False}}\n"
     ]
    }
   ],
   "source": [
    "student_grades = {\n",
    "    9210114413 : {\"grade\": 55, \"passed\": True},\n",
    "    9010054514 : {\"grade\": 22, \"passed\": False},\n",
    "    8504129392 : {\"grade\": 60, \"passed\": True},\n",
    "    9201134555 : {\"grade\": 15, \"passed\": False},\n",
    "}\n",
    "\n",
    "\n",
    "new_dict_of_student_grades = {}\n",
    "\n",
    "for student_personnumber, student_result in student_grades.items():\n",
    "    if student_result[\"passed\"] == False:\n",
    "        new_dict_of_student_grades[student_personnumber] = student_result\n",
    "\n",
    "       \n",
    "print(new_dict_of_student_grades)\n"
   ]
  },
  {
   "attachments": {},
   "cell_type": "markdown",
   "metadata": {},
   "source": [
    "### Uppgift 12\n",
    "\n",
    "Du har en lista som består av dictionaries. Varje dictionary representerar data för en enskild student i ett system.\n",
    "\n",
    "Du vill skapa en ny lista som endast består av studenter där \"Passed\" är True, hur gör du? \n",
    "\n",
    "**Tips** Utnyttja listor, loops och if-statements. \n",
    "\n",
    "**Svara med kod**"
   ]
  },
  {
   "cell_type": "code",
   "execution_count": 1,
   "metadata": {},
   "outputs": [
    {
     "name": "stdout",
     "output_type": "stream",
     "text": [
      "[{'name': 'John', 'age': 18, 'passed': True, 'major': 'computer science', 'GPA': 3.8}, {'name': 'Bob', 'age': 20, 'passed': True, 'major': 'engineering', 'GPA': 3.5}, {'name': 'David', 'age': 22, 'passed': True, 'major': 'business', 'GPA': 3.6}]\n"
     ]
    }
   ],
   "source": [
    "students = [\n",
    "    {'name': 'John', 'age': 18, 'passed': True, 'major': 'computer science', 'GPA': 3.8},\n",
    "    {'name': 'Jane', 'age': 19, 'passed': False, 'major': 'biology', 'GPA': 3.2},\n",
    "    {'name': 'Bob', 'age': 20, 'passed': True, 'major': 'engineering', 'GPA': 3.5},\n",
    "    {'name': 'Alice', 'age': 21, 'passed': False, 'major': 'history', 'GPA': 2.9},\n",
    "    {'name': 'David', 'age': 22, 'passed': True, 'major': 'business', 'GPA': 3.6}\n",
    "]\n",
    "\n",
    "succesful_students =[]\n",
    "\n",
    "for student in students:\n",
    "    if student[\"passed\"]:\n",
    "        succesful_students.append(student)\n",
    "\n",
    "print(succesful_students)"
   ]
  },
  {
   "attachments": {},
   "cell_type": "markdown",
   "metadata": {},
   "source": [
    "### Uppgift 13\n",
    "Ponera att du har ett register av hela sveriges befolkning (ca 10 miljoner invånare) som vi sparat i en dictionary med personnumret som key och övrig data som value. \n",
    "Tex:\n",
    "```python\n",
    "swedish_ssn_collection = {199105125545: {}...}\n",
    "```\n",
    "Varför är det ett rimligt val att använda en dictionary istället för exempelvis en list, med avseende på tex. performance?\n",
    "\n",
    "**Svara med text.**"
   ]
  },
  {
   "cell_type": "code",
   "execution_count": 2,
   "metadata": {},
   "outputs": [],
   "source": [
    "\n",
    "# Eftersom personnummer är unika kan vi omedelbart komma åt en persons information genom att använda deras personnummer som nyckel.\n",
    "# Men om vi skulle använda en lista skulle du behöva använda list för att sortera igenom varje post i list för att hitta en persons information.\n",
    "# Och denna process skulle ta längre tid.\n",
    "# Mycket snabba uppdateringar kan göras med hjälp av en dictionary.\n"
   ]
  },
  {
   "attachments": {},
   "cell_type": "markdown",
   "metadata": {},
   "source": [
    "# VG"
   ]
  },
  {
   "attachments": {},
   "cell_type": "markdown",
   "metadata": {},
   "source": [
    "I mappen så hittar du ytterligare två pythonfiler. Du ska lösa **båda** självständigt för att få VG. \n",
    "Instruktioner finns i varje fil. Kom ihåg - du ska inte använda AI som hjälpmedel - det är denna typ av uppgift som hjälper dig öva på problemlösning.\n",
    "\n",
    "Tänk på att försöka kommentera din kod med kortare förklaringar där du tycker att du känns relevant."
   ]
  },
  {
   "attachments": {},
   "cell_type": "markdown",
   "metadata": {},
   "source": [
    "## 1 - Number generator\n",
    "Du ska lösa uppgiften som du hittar i vg_1.py - Den tränar dig på att dela upp logik i funktioner och visar hur vi kan skapa ett enklare konsolprogram som utnyttjar en meny."
   ]
  },
  {
   "attachments": {},
   "cell_type": "markdown",
   "metadata": {},
   "source": [
    "## 2 - Sten sax påse\n",
    "\n",
    "Du ska lösa uppgiften som du hittar i vg_2.py - Den tränar dig på att jobba med if-statements och loopar. \n",
    "För högsta kvalitet bör du också hantera errors (tex. om användaren inte skriver sten, stax eller påse)"
   ]
  }
 ],
 "metadata": {
  "kernelspec": {
   "display_name": "venv",
   "language": "python",
   "name": "python3"
  },
  "language_info": {
   "codemirror_mode": {
    "name": "ipython",
    "version": 3
   },
   "file_extension": ".py",
   "mimetype": "text/x-python",
   "name": "python",
   "nbconvert_exporter": "python",
   "pygments_lexer": "ipython3",
   "version": "3.11.5"
  },
  "orig_nbformat": 4
 },
 "nbformat": 4,
 "nbformat_minor": 2
}
